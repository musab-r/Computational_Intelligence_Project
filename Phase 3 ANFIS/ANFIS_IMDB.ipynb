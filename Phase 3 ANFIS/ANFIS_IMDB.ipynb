{
  "nbformat": 4,
  "nbformat_minor": 0,
  "metadata": {
    "colab": {
      "name": "ANFIS_IMDB.ipynb",
      "provenance": [],
      "collapsed_sections": [],
      "include_colab_link": true
    },
    "kernelspec": {
      "name": "python3",
      "display_name": "Python 3"
    },
    "language_info": {
      "name": "python"
    },
    "accelerator": "GPU"
  },
  "cells": [
    {
      "cell_type": "markdown",
      "metadata": {
        "id": "view-in-github",
        "colab_type": "text"
      },
      "source": [
        "<a href=\"https://colab.research.google.com/github/musab-r/Computational_Intelligence_Project/blob/main/Phase%203%20ANFIS/ANFIS_IMDB.ipynb\" target=\"_parent\"><img src=\"https://colab.research.google.com/assets/colab-badge.svg\" alt=\"Open In Colab\"/></a>"
      ]
    },
    {
      "cell_type": "markdown",
      "metadata": {
        "id": "xQXc2RLkcunR"
      },
      "source": [
        "# Computational Intelligence Project: Sentiment Analysis on IMDB dataset (Part III) \n",
        "\n",
        "[Musab - 19030008]"
      ]
    },
    {
      "cell_type": "markdown",
      "metadata": {
        "id": "AyTBcrHppImf"
      },
      "source": [
        "In this Notebook, I have done implementing Hybrid Neuro Genetic Fuzzy System.  In this approach, an optimization is applied to Neuro-fuzzy inference system using genetic algorithm. Neuro-fuzzy is also called ANFIS. Genetic Algorithm is used to optimize the hybrid model using different parameters i.e., \n",
        "1. Number of layers\n",
        "2. Number of parameters in Dense Layer specificly.\n",
        "3. Different optimizers i.e., Adam, RMSProp,Adagrad, SDG \n",
        "4. Different Activation Functions i.e., Sigmoid, Relu "
      ]
    },
    {
      "cell_type": "markdown",
      "metadata": {
        "id": "34i-xpvpzyjQ"
      },
      "source": [
        "## Imports"
      ]
    },
    {
      "cell_type": "code",
      "metadata": {
        "id": "zeHJoAg_w9e0"
      },
      "source": [
        "#%%\n",
        "from keras.layers import Input, Dense, Dropout\n",
        "from keras.models import Model\n",
        "from keras.datasets import mnist, imdb\n",
        "import numpy as np\n",
        "from keras import regularizers\n",
        "import matplotlib.pyplot as plt\n",
        "from FuzzyLayer import FuzzyLayer\n",
        "from tensorflow.python.client import device_lib\n",
        "from keras.utils import to_categorical\n",
        "import re\n"
      ],
      "execution_count": null,
      "outputs": []
    },
    {
      "cell_type": "markdown",
      "metadata": {
        "id": "96x8aeJ_0Eze"
      },
      "source": [
        "## Step 1| Loading Dataset"
      ]
    },
    {
      "cell_type": "code",
      "metadata": {
        "id": "BdrFb_i4xDVQ",
        "colab": {
          "base_uri": "https://localhost:8080/"
        },
        "outputId": "519b1cff-22ac-4265-c1ff-ed61066be57c"
      },
      "source": [
        "(x_train, y_train), (x_test, y_test) = imdb.load_data(num_words=10000)"
      ],
      "execution_count": null,
      "outputs": [
        {
          "output_type": "stream",
          "text": [
            "<string>:6: VisibleDeprecationWarning: Creating an ndarray from ragged nested sequences (which is a list-or-tuple of lists-or-tuples-or ndarrays with different lengths or shapes) is deprecated. If you meant to do this, you must specify 'dtype=object' when creating the ndarray\n",
            "/usr/local/lib/python3.7/dist-packages/tensorflow/python/keras/datasets/imdb.py:159: VisibleDeprecationWarning: Creating an ndarray from ragged nested sequences (which is a list-or-tuple of lists-or-tuples-or ndarrays with different lengths or shapes) is deprecated. If you meant to do this, you must specify 'dtype=object' when creating the ndarray\n",
            "  x_train, y_train = np.array(xs[:idx]), np.array(labels[:idx])\n",
            "/usr/local/lib/python3.7/dist-packages/tensorflow/python/keras/datasets/imdb.py:160: VisibleDeprecationWarning: Creating an ndarray from ragged nested sequences (which is a list-or-tuple of lists-or-tuples-or ndarrays with different lengths or shapes) is deprecated. If you meant to do this, you must specify 'dtype=object' when creating the ndarray\n",
            "  x_test, y_test = np.array(xs[idx:]), np.array(labels[idx:])\n"
          ],
          "name": "stderr"
        }
      ]
    },
    {
      "cell_type": "markdown",
      "metadata": {
        "id": "VlnEnzbqqapE"
      },
      "source": [
        "Dataset statistics"
      ]
    },
    {
      "cell_type": "code",
      "metadata": {
        "colab": {
          "base_uri": "https://localhost:8080/"
        },
        "id": "Azm9f1jZzo0s",
        "outputId": "6e3ba510-fe61-449c-c4e3-1076d1506739"
      },
      "source": [
        "print(\"train_data \", x_train.shape)\n",
        "print(\"train_labels \", y_train.shape)\n",
        "print(\"_\"*100)\n",
        "print(\"test_data \", x_test.shape)\n",
        "print(\"test_labels \", y_test.shape)\n",
        "print(\"_\"*100)\n",
        "print(\"Maximum value of a word index \")\n",
        "print(max([max(sequence) for sequence in x_train]))\n",
        "print(\"Maximum length num words of review in train \")\n",
        "print(max([len(sequence) for sequence in x_train]))"
      ],
      "execution_count": null,
      "outputs": [
        {
          "output_type": "stream",
          "text": [
            "train_data  (25000,)\n",
            "train_labels  (25000,)\n",
            "____________________________________________________________________________________________________\n",
            "test_data  (25000,)\n",
            "test_labels  (25000,)\n",
            "____________________________________________________________________________________________________\n",
            "Maximum value of a word index \n",
            "9999\n",
            "Maximum length num words of review in train \n",
            "2494\n"
          ],
          "name": "stdout"
        }
      ]
    },
    {
      "cell_type": "markdown",
      "metadata": {
        "id": "lXcjVIFtrPfy"
      },
      "source": [
        "Vectorizing the input makes the learning of model faster that's why i have applied Vectorization"
      ]
    },
    {
      "cell_type": "code",
      "metadata": {
        "id": "zocB03lbzxLB"
      },
      "source": [
        "def vectorize_sequences(sequences, dimension=10000):\n",
        "    results = np.zeros((len(sequences), dimension))\n",
        "    for i, sequence in enumerate(sequences):\n",
        "        results[i, sequence] = 1.\n",
        "    return results"
      ],
      "execution_count": null,
      "outputs": []
    },
    {
      "cell_type": "markdown",
      "metadata": {
        "id": "rKsRUKz2qki6"
      },
      "source": [
        "## Step 2| Splitting Dataset\n",
        "\n",
        "As dataset contains the 50,000 reviews and is classified to positive and negative classes. Genetic Algorithm expands the training as it tries multiple generation, and population to ooptimize the network.   "
      ]
    },
    {
      "cell_type": "code",
      "metadata": {
        "colab": {
          "base_uri": "https://localhost:8080/"
        },
        "id": "cqMlAH7wz4Yx",
        "outputId": "949e841b-8034-458f-9440-b84274f3ee04"
      },
      "source": [
        "x_train = vectorize_sequences(x_train)\n",
        "x_test = vectorize_sequences(x_test)\n",
        "\n",
        "print(\"x_train \", x_train.shape)\n",
        "print(\"x_test \", x_test.shape)"
      ],
      "execution_count": null,
      "outputs": [
        {
          "output_type": "stream",
          "text": [
            "x_train  (25000, 10000)\n",
            "x_test  (25000, 10000)\n"
          ],
          "name": "stdout"
        }
      ]
    },
    {
      "cell_type": "code",
      "metadata": {
        "colab": {
          "base_uri": "https://localhost:8080/"
        },
        "id": "6yIw9LnZxTWU",
        "outputId": "35955254-740e-4236-dbf4-be65fdaf4296"
      },
      "source": [
        "y_train = np.asarray(y_train).astype('float32')\n",
        "y_test = np.asarray(y_test).astype('float32')\n",
        "print(\"y_train \", y_train.shape)\n",
        "print(\"y_test \", y_test.shape)"
      ],
      "execution_count": null,
      "outputs": [
        {
          "output_type": "stream",
          "text": [
            "y_train  (25000,)\n",
            "y_test  (25000,)\n"
          ],
          "name": "stdout"
        }
      ]
    },
    {
      "cell_type": "code",
      "metadata": {
        "colab": {
          "base_uri": "https://localhost:8080/"
        },
        "id": "jjMqfHR61ljm",
        "outputId": "9ee4c24c-bdb8-4dab-c8d7-29281e11c75f"
      },
      "source": [
        "x_val = x_train[:10000]\n",
        "partial_x_train = x_train[10000:]\n",
        "y_val = y_train[:10000]\n",
        "partial_y_train = y_train[10000:]\n",
        "\n",
        "print(\"x_val \", x_val.shape)\n",
        "print(\"partial_x_train \", partial_x_train.shape)\n",
        "print(\"y_val \", y_val.shape)\n",
        "print(\"partial_y_train \", partial_y_train.shape)"
      ],
      "execution_count": null,
      "outputs": [
        {
          "output_type": "stream",
          "text": [
            "x_val  (10000, 10000)\n",
            "partial_x_train  (15000, 10000)\n",
            "y_val  (10000,)\n",
            "partial_y_train  (15000,)\n"
          ],
          "name": "stdout"
        }
      ]
    },
    {
      "cell_type": "markdown",
      "metadata": {
        "id": "x25JUABBrxtm"
      },
      "source": [
        "## Step 3| Fuzzy System & Neural Network"
      ]
    },
    {
      "cell_type": "markdown",
      "metadata": {
        "id": "60IYI62vv7Xo"
      },
      "source": [
        "### Fuzzy Layer | Custom layer"
      ]
    },
    {
      "cell_type": "code",
      "metadata": {
        "id": "_wBTlK05v_Tt"
      },
      "source": [
        "class FuzzyLayer(Layer):\n",
        "\n",
        "    def __init__(self, \n",
        "                 output_dim, \n",
        "                 initializer_centers=None,\n",
        "                 initializer_sigmas=None, \n",
        "                 **kwargs):\n",
        "        if 'input_shape' not in kwargs and 'input_dim' in kwargs:\n",
        "            kwargs['input_shape'] = (kwargs.pop('input_dim'),)\n",
        "        self.output_dim = output_dim\n",
        "        self.initializer_centers = initializer_centers\n",
        "        self.initializer_sigmas = initializer_sigmas\n",
        "        super(FuzzyLayer, self).__init__(**kwargs)\n",
        "\n",
        "    def build(self, input_shape):\n",
        "        self.input_dimensions = list(input_shape)[:-1:-1]\n",
        "        self.c = self.add_weight(name='c', \n",
        "                                 shape=(input_shape[-1], self.output_dim),\n",
        "                                 initializer= self.initializer_centers if self.initializer_centers is not None else 'uniform',\n",
        "                                 trainable=True)\n",
        "        self.a = self.add_weight(name='a', \n",
        "                                 shape=(input_shape[-1], self.output_dim),\n",
        "                                 initializer=self.initializer_sigmas if self.initializer_sigmas is not None else 'ones',\n",
        "                                 trainable=True)\n",
        "        super(FuzzyLayer, self).build(input_shape)  \n",
        "\n",
        "    def call(self, x):\n",
        "        \n",
        "        aligned_x = K.repeat_elements(K.expand_dims(x, axis = -1), self.output_dim, -1)\n",
        "        aligned_c = self.c\n",
        "        aligned_a = self.a\n",
        "        for dim in self.input_dimensions:\n",
        "            aligned_c = K.repeat_elements(K.expand_dims(aligned_c, 0), dim, 0)\n",
        "            aligned_a = K.repeat_elements(K.expand_dims(aligned_a, 0), dim, 0)\n",
        "\n",
        "        xc = K.exp(-K.sum(K.square((aligned_x - aligned_c) / (2 * aligned_a)), axis=-2, keepdims=False))\n",
        "        #sums = K.sum(xc,axis=-1,keepdims=True)\n",
        "        #less = K.ones_like(sums) * K.epsilon()\n",
        "        return xc# xc / K.maximum(sums, less)\n",
        "        \n",
        "    def compute_output_shape(self, input_shape):\n",
        "        return tuple(input_shape[:-1]) + (self.output_dim,)"
      ],
      "execution_count": null,
      "outputs": []
    },
    {
      "cell_type": "markdown",
      "metadata": {
        "id": "VjfT_7MF0rnE"
      },
      "source": [
        "### Neural Network"
      ]
    },
    {
      "cell_type": "code",
      "metadata": {
        "id": "8D6Adea_xDYK"
      },
      "source": [
        "input_img = Input(shape=(10000,))\n",
        "model = Dense(256, kernel_regularizer=regularizers.l1(0.0001), activation='relu')(input_img)\n",
        "model = Dense(2,activation='relu')(model)\n",
        "f_layer = FuzzyLayer(100)\n",
        "model = f_layer(model)\n",
        "model = Dense(1, activation='linear')(model)\n",
        "imdb = Model(input_img, model)"
      ],
      "execution_count": null,
      "outputs": []
    },
    {
      "cell_type": "code",
      "metadata": {
        "colab": {
          "base_uri": "https://localhost:8080/"
        },
        "id": "QLeSefxDxL2q",
        "outputId": "0eb170c5-b5f3-448f-8a16-08ca8c5ff864"
      },
      "source": [
        "imdb.summary()"
      ],
      "execution_count": null,
      "outputs": [
        {
          "output_type": "stream",
          "text": [
            "Model: \"model\"\n",
            "_________________________________________________________________\n",
            "Layer (type)                 Output Shape              Param #   \n",
            "=================================================================\n",
            "input_1 (InputLayer)         [(None, 10000)]           0         \n",
            "_________________________________________________________________\n",
            "dense (Dense)                (None, 256)               2560256   \n",
            "_________________________________________________________________\n",
            "dense_1 (Dense)              (None, 2)                 514       \n",
            "_________________________________________________________________\n",
            "fuzzy_layer (FuzzyLayer)     (None, 100)               400       \n",
            "_________________________________________________________________\n",
            "dense_2 (Dense)              (None, 1)                 101       \n",
            "=================================================================\n",
            "Total params: 2,561,271\n",
            "Trainable params: 2,561,271\n",
            "Non-trainable params: 0\n",
            "_________________________________________________________________\n"
          ],
          "name": "stdout"
        }
      ]
    },
    {
      "cell_type": "code",
      "metadata": {
        "id": "QnpyWd8oxO-s"
      },
      "source": [
        "imdb.compile(optimizer='sgd', loss='mse',metrics=['acc'])"
      ],
      "execution_count": null,
      "outputs": []
    },
    {
      "cell_type": "markdown",
      "metadata": {
        "id": "99ueVS-t0xwy"
      },
      "source": [
        "### Training"
      ]
    },
    {
      "cell_type": "code",
      "metadata": {
        "colab": {
          "base_uri": "https://localhost:8080/"
        },
        "id": "zFEsbZ7oxaEj",
        "outputId": "9db6d081-9f77-4e7c-f802-dbfff59a8530"
      },
      "source": [
        "imdb.fit(x_train, y_train,\n",
        "                epochs=10,\n",
        "                batch_size=64,\n",
        "                shuffle=True,\n",
        "                validation_data=(x_val, y_val))\n",
        "\n",
        "#%%\n",
        "weights = f_layer.get_weights()"
      ],
      "execution_count": null,
      "outputs": [
        {
          "output_type": "stream",
          "text": [
            "Epoch 1/10\n",
            "391/391 [==============================] - 2s 6ms/step - loss: 0.8652 - acc: 0.9521 - val_loss: 0.8380 - val_acc: 0.9539\n",
            "Epoch 2/10\n",
            "391/391 [==============================] - 2s 5ms/step - loss: 0.8159 - acc: 0.9516 - val_loss: 0.7835 - val_acc: 0.9658\n",
            "Epoch 3/10\n",
            "391/391 [==============================] - 2s 5ms/step - loss: 0.7686 - acc: 0.9519 - val_loss: 0.7495 - val_acc: 0.9525\n",
            "Epoch 4/10\n",
            "391/391 [==============================] - 2s 5ms/step - loss: 0.7240 - acc: 0.9516 - val_loss: 0.6999 - val_acc: 0.9536\n",
            "Epoch 5/10\n",
            "391/391 [==============================] - 2s 5ms/step - loss: 0.6831 - acc: 0.9458 - val_loss: 0.6569 - val_acc: 0.9589\n",
            "Epoch 6/10\n",
            "391/391 [==============================] - 2s 5ms/step - loss: 0.6369 - acc: 0.9520 - val_loss: 0.6070 - val_acc: 0.9691\n",
            "Epoch 7/10\n",
            "391/391 [==============================] - 2s 5ms/step - loss: 0.5987 - acc: 0.9481 - val_loss: 0.5672 - val_acc: 0.9678\n",
            "Epoch 8/10\n",
            "391/391 [==============================] - 2s 5ms/step - loss: 0.5625 - acc: 0.9432 - val_loss: 0.5548 - val_acc: 0.9242\n",
            "Epoch 9/10\n",
            "391/391 [==============================] - 2s 5ms/step - loss: 0.5231 - acc: 0.9484 - val_loss: 0.5522 - val_acc: 0.8686\n",
            "Epoch 10/10\n",
            "391/391 [==============================] - 2s 5ms/step - loss: 0.4918 - acc: 0.9413 - val_loss: 0.4713 - val_acc: 0.9480\n"
          ],
          "name": "stdout"
        }
      ]
    },
    {
      "cell_type": "code",
      "metadata": {
        "id": "0F0QlEWuv4UW",
        "colab": {
          "base_uri": "https://localhost:8080/",
          "height": 294
        },
        "outputId": "4f3d8aac-08ed-4ee1-8890-9f694eddc5c5"
      },
      "source": [
        "plt.ion()\n",
        "plt.show()\n",
        "plt.clf()\n",
        "plt.title('f')\n",
        "plt.ylabel('s')\n",
        "plt.xlabel('x')\n",
        "\n",
        "tmpy = []\n",
        "tmpx = []\n",
        "for i in range(0, 100):\n",
        "        tmpy.append(weights[0][0][i])\n",
        "        tmpx.append(weights[0][1][i])\n",
        "\n",
        "plt.scatter(tmpx, tmpy)   \n",
        "plt.show()"
      ],
      "execution_count": null,
      "outputs": [
        {
          "output_type": "display_data",
          "data": {
            "image/png": "[encoded data removed]",
            "text/plain": [
              "<Figure size 432x288 with 1 Axes>"
            ]
          },
          "metadata": {
            "tags": [],
            "needs_background": "light"
          }
        }
      ]
    },
    {
      "cell_type": "markdown",
      "metadata": {
        "id": "WGT0wwiZ02gW"
      },
      "source": [
        "### Evaluation on Test Set"
      ]
    },
    {
      "cell_type": "code",
      "metadata": {
        "id": "kWBHvfhIyk2Q",
        "colab": {
          "base_uri": "https://localhost:8080/"
        },
        "outputId": "8cd6fcdf-ee64-4bf4-93d3-cd358812ec52"
      },
      "source": [
        "a = imdb.evaluate(x_test, y_test)\n",
        "print(\"Accuarcy: \",a[1]*100)"
      ],
      "execution_count": null,
      "outputs": [
        {
          "output_type": "stream",
          "text": [
            "782/782 [==============================] - 2s 3ms/step - loss: 1.5183 - acc: 0.8836\n",
            "Accuarcy:  88.35600018501282\n"
          ],
          "name": "stdout"
        }
      ]
    },
    {
      "cell_type": "code",
      "metadata": {
        "colab": {
          "base_uri": "https://localhost:8080/"
        },
        "id": "0S6XhlZ7vZ0H",
        "outputId": "a1693f1d-58b3-4ec4-ec08-b5a264c38ddf"
      },
      "source": [
        "a2 = imdb.evaluate(x_test, y_test)\n",
        "print(\"Accuarcy: \",a2[1]*100)"
      ],
      "execution_count": null,
      "outputs": [
        {
          "output_type": "stream",
          "text": [
            "782/782 [==============================] - 2s 2ms/step - loss: 0.9327 - acc: 0.8811\n",
            "Accuarcy:  88.10799717903137\n"
          ],
          "name": "stdout"
        }
      ]
    },
    {
      "cell_type": "code",
      "metadata": {
        "colab": {
          "base_uri": "https://localhost:8080/"
        },
        "id": "4qOfGSa3uTHA",
        "outputId": "fc0f3431-e1c6-4de8-842f-9cc967f250e8"
      },
      "source": [
        "prediction = imdb.predict(x_test)\n",
        "y_pred = (prediction > 0.5)\n",
        "from sklearn.metrics import f1_score, confusion_matrix\n",
        "print('F1-score: {0}'.format(f1_score(y_pred, y_test)))\n",
        "print('Confusion matrix:')\n",
        "confusion_matrix(y_pred, y_test)"
      ],
      "execution_count": null,
      "outputs": [
        {
          "output_type": "stream",
          "text": [
            "F1-score: 0.879249421225783\n",
            "Confusion matrix:\n"
          ],
          "name": "stdout"
        },
        {
          "output_type": "execute_result",
          "data": {
            "text/plain": [
              "array([[11203,  1676],\n",
              "       [ 1297, 10824]])"
            ]
          },
          "metadata": {
            "tags": []
          },
          "execution_count": 22
        }
      ]
    }
  ]
}